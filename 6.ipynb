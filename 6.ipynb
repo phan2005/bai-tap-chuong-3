{
 "cells": [
  {
   "cell_type": "code",
   "execution_count": 7,
   "metadata": {},
   "outputs": [
    {
     "name": "stdout",
     "output_type": "stream",
     "text": [
      "[[ True  True  True]\n",
      " [ True  True  True]\n",
      " [ True  True  True]]\n",
      "[[2 1 0]\n",
      " [5 4 3]\n",
      " [8 7 6]]\n",
      "[[5 4 3]\n",
      " [2 1 0]\n",
      " [8 7 6]]\n",
      "[[8 7 6]\n",
      " [2 1 0]\n",
      " [5 4 3]]\n",
      "[[6 7 8]\n",
      " [0 1 2]\n",
      " [3 4 5]]\n",
      "[[ 1.  2.  3.]\n",
      " [nan  5.  6.]\n",
      " [ 7. nan  9.]\n",
      " [ 4.  5.  6.]]\n",
      "True\n",
      "[[1. 2. 3.]\n",
      " [0. 5. 6.]\n",
      " [7. 0. 9.]\n",
      " [4. 5. 6.]]\n"
     ]
    }
   ],
   "source": [
    "import numpy as np\n",
    "#1\n",
    "arr=np.full((3,3), True)\n",
    "print(arr)\n",
    "#2\n",
    "arr_1D=np.array([0, 1, 2, 3, 4, 5, 6, 7, 8])\n",
    "arr_2D=arr_1D.reshape(3, 3)\n",
    "arr_2D[:, [0, 2]]=arr_2D[:, [2, 0]]\n",
    "print(arr_2D)\n",
    "#3\n",
    "arr_2D[[0, 1]]=arr_2D[[1, 0]]\n",
    "print(arr_2D)\n",
    "#4\n",
    "arr_2D=arr_2D[::-1]\n",
    "print(arr_2D)\n",
    "#5\n",
    "arr_2D=arr_2D[:, ::-1]\n",
    "print(arr_2D)\n",
    "#6\n",
    "arr_2D_null=np.array([[1, 2, 3], [np.NaN, 5, 6], [7, np.NaN,  9], [4, 5, 6]])\n",
    "print(arr_2D_null)\n",
    "print(np.isnan(arr_2D_null).any())\n",
    "#7\n",
    "arr_2D_null=np.nan_to_num(arr_2D_null, nan=0)\n",
    "print(arr_2D_null)\n",
    "\n",
    "\n"
   ]
  }
 ],
 "metadata": {
  "kernelspec": {
   "display_name": "Python 3",
   "language": "python",
   "name": "python3"
  },
  "language_info": {
   "codemirror_mode": {
    "name": "ipython",
    "version": 3
   },
   "file_extension": ".py",
   "mimetype": "text/x-python",
   "name": "python",
   "nbconvert_exporter": "python",
   "pygments_lexer": "ipython3",
   "version": "3.6.8"
  }
 },
 "nbformat": 4,
 "nbformat_minor": 2
}
