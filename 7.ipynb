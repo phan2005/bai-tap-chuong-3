{
 "cells": [
  {
   "cell_type": "code",
   "execution_count": 2,
   "metadata": {},
   "outputs": [
    {
     "name": "stdout",
     "output_type": "stream",
     "text": [
      "float64 (0,)\n"
     ]
    },
    {
     "ename": "IndexError",
     "evalue": "index 49 is out of bounds for axis 0 with size 0",
     "output_type": "error",
     "traceback": [
      "\u001b[1;31m---------------------------------------------------------------------------\u001b[0m",
      "\u001b[1;31mIndexError\u001b[0m                                Traceback (most recent call last)",
      "\u001b[1;32m<ipython-input-2-68d29640a70c>\u001b[0m in \u001b[0;36m<module>\u001b[1;34m\u001b[0m\n\u001b[0;32m     14\u001b[0m \u001b[0mprint\u001b[0m\u001b[1;33m(\u001b[0m\u001b[0mnp_baseball\u001b[0m\u001b[1;33m.\u001b[0m\u001b[0mdtype\u001b[0m\u001b[1;33m,\u001b[0m \u001b[0mnp_baseball\u001b[0m\u001b[1;33m.\u001b[0m\u001b[0mshape\u001b[0m\u001b[1;33m)\u001b[0m\u001b[1;33m\u001b[0m\u001b[1;33m\u001b[0m\u001b[0m\n\u001b[0;32m     15\u001b[0m \u001b[1;31m#2\u001b[0m\u001b[1;33m\u001b[0m\u001b[1;33m\u001b[0m\u001b[1;33m\u001b[0m\u001b[0m\n\u001b[1;32m---> 16\u001b[1;33m \u001b[0mprint\u001b[0m\u001b[1;33m(\u001b[0m\u001b[0mnp_baseball\u001b[0m\u001b[1;33m[\u001b[0m\u001b[1;36m49\u001b[0m\u001b[1;33m]\u001b[0m\u001b[1;33m)\u001b[0m\u001b[1;33m\u001b[0m\u001b[1;33m\u001b[0m\u001b[0m\n\u001b[0m\u001b[0;32m     17\u001b[0m \u001b[1;31m#3\u001b[0m\u001b[1;33m\u001b[0m\u001b[1;33m\u001b[0m\u001b[1;33m\u001b[0m\u001b[0m\n\u001b[0;32m     18\u001b[0m \u001b[0mnp_weight\u001b[0m\u001b[1;33m=\u001b[0m\u001b[0mnp_baseball\u001b[0m\u001b[1;33m[\u001b[0m\u001b[1;33m:\u001b[0m\u001b[1;33m,\u001b[0m \u001b[1;36m1\u001b[0m\u001b[1;33m]\u001b[0m\u001b[1;33m\u001b[0m\u001b[1;33m\u001b[0m\u001b[0m\n",
      "\u001b[1;31mIndexError\u001b[0m: index 49 is out of bounds for axis 0 with size 0"
     ]
    }
   ],
   "source": [
    "import numpy as np\n",
    "baseball = []\n",
    "with open('D:\\\\BAI TAP\\\\CHUONG3\\\\baseball_2D.txt', 'r', encoding='utf-8-sig') as file:\n",
    "    for line in file:\n",
    "        line = line.strip()  \n",
    "        parts = line.split(',') \n",
    "        if len(parts) == 2:  \n",
    "            try:\n",
    "                baseball.append([float(x) for x in parts])  \n",
    "            except ValueError:\n",
    "                pass\n",
    "#1  \n",
    "np_baseball = np.array(baseball)\n",
    "print(np_baseball.dtype, np_baseball.shape)\n",
    "#2\n",
    "print(np_baseball[49])\n",
    "#3\n",
    "np_weight=np_baseball[:, 1]\n",
    "print(np_weight)\n",
    "#4\n",
    "height_124=np_baseball[123, 0]\n",
    "print(f\"\\nChieu cao cua van don vien thu 124: {height_124} inch\")\n",
    "#5\n",
    "chieu_cao_trung_binh=np_baseball[:, 0].mean()\n",
    "can_nang_trung_binh=np_baseball[:, 1].mean()\n",
    "print(f\"\\nChieu cao trung binh cua cac cau thu: {chieu_cao_trung_binh} inch\")\n",
    "print(f\"\\nCan nang trung binh cua cac cau thu: {can_nang_trun_binh} pounds\")\n",
    "#6\n",
    "correlation=np.corrcoef(np_baseball[:, 0], np_baseball[:, 1])[0, 1]\n",
    "if correlation > 0:\n",
    "    print(\"\\nCo moi quan he tuong quan thuan giua chieu cao va can nang\")\n",
    "elif correlation < 0:\n",
    "    print(\"\\nCo moi quan nghich giua chieu cao va can nang\")\n",
    "else:\n",
    "    print(\"\\nKhong co moi tuong quan giua chieu cao va can nang\")\n"
   ]
  }
 ],
 "metadata": {
  "kernelspec": {
   "display_name": "Python 3",
   "language": "python",
   "name": "python3"
  },
  "language_info": {
   "codemirror_mode": {
    "name": "ipython",
    "version": 3
   },
   "file_extension": ".py",
   "mimetype": "text/x-python",
   "name": "python",
   "nbconvert_exporter": "python",
   "pygments_lexer": "ipython3",
   "version": "3.6.8"
  }
 },
 "nbformat": 4,
 "nbformat_minor": 2
}
