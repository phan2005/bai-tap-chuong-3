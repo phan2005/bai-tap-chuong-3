{
 "cells": [
  {
   "cell_type": "code",
   "execution_count": 4,
   "metadata": {},
   "outputs": [
    {
     "name": "stdout",
     "output_type": "stream",
     "text": [
      "[2, 4]\n",
      "[1, 3, 5, 6]\n",
      "[6, 9, 10, 8, 6]\n"
     ]
    }
   ],
   "source": [
    "arr_a=[1,2,3,2,3,4,3,4,5,6]\n",
    "arr_b=[7,2,10,2,7,4,9,4,9,8]\n",
    "#1\n",
    "arr_c=list(set(arr_a)&set(arr_b))\n",
    "print(arr_c)\n",
    "#2\n",
    "arr_d=list(set(arr_a)-set(arr_b))\n",
    "print(arr_d)\n",
    "#3\n",
    "arr_e=[2,6,1,9,10,3,27,8,6,25,16]\n",
    "arr_f=[x for x in arr_e if 5<=x<=10]\n",
    "print(arr_f)"
   ]
  }
 ],
 "metadata": {
  "kernelspec": {
   "display_name": "Python 3",
   "language": "python",
   "name": "python3"
  },
  "language_info": {
   "codemirror_mode": {
    "name": "ipython",
    "version": 3
   },
   "file_extension": ".py",
   "mimetype": "text/x-python",
   "name": "python",
   "nbconvert_exporter": "python",
   "pygments_lexer": "ipython3",
   "version": "3.6.8"
  }
 },
 "nbformat": 4,
 "nbformat_minor": 2
}
