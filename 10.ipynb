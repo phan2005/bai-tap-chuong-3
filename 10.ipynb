{
 "cells": [
  {
   "cell_type": "code",
   "execution_count": 3,
   "metadata": {},
   "outputs": [
    {
     "name": "stdout",
     "output_type": "stream",
     "text": [
      "         country  beer_servings  spirit_servings  wine_servings  \\\n",
      "0    Afghanistan              0                0              0   \n",
      "1        Albania             89              132             54   \n",
      "2        Algeria             25                0             14   \n",
      "3        Andorra            245              138            312   \n",
      "4         Angola            217               57             45   \n",
      "..           ...            ...              ...            ...   \n",
      "188    Venezuela            333              100              3   \n",
      "189      Vietnam            111                2              1   \n",
      "190        Yemen              6                0              0   \n",
      "191       Zambia             32               19              4   \n",
      "192     Zimbabwe             64               18              4   \n",
      "\n",
      "     total_litres_of_pure_alcohol continent  \n",
      "0                             0.0        AS  \n",
      "1                             4.9        EU  \n",
      "2                             0.7        AF  \n",
      "3                            12.4        EU  \n",
      "4                             5.9        AF  \n",
      "..                            ...       ...  \n",
      "188                           7.7        SA  \n",
      "189                           2.0        AS  \n",
      "190                           0.1        AS  \n",
      "191                           2.5        AF  \n",
      "192                           4.7        AF  \n",
      "\n",
      "[193 rows x 6 columns]\n",
      "<class 'pandas.core.frame.DataFrame'>\n",
      "(193, 6)\n",
      "['country', 'beer_servings', 'spirit_servings', 'wine_servings', 'total_litres_of_pure_alcohol', 'continent']\n"
     ]
    }
   ],
   "source": [
    "import pandas as pd\n",
    "1#\n",
    "drink=pd.read_csv('drinks.csv', index_col=0)\n",
    "print(drink)\n",
    "print(type(drink))\n",
    "print(drink.shape)\n",
    "print(drink.columns.tolist())\n",
    "\n",
    "\n"
   ]
  },
  {
   "cell_type": "code",
   "execution_count": 4,
   "metadata": {},
   "outputs": [
    {
     "name": "stdout",
     "output_type": "stream",
     "text": [
      "       country  beer_servings  spirit_servings  wine_servings  \\\n",
      "0  Afghanistan              0                0              0   \n",
      "1      Albania             89              132             54   \n",
      "2      Algeria             25                0             14   \n",
      "3      Andorra            245              138            312   \n",
      "4       Angola            217               57             45   \n",
      "\n",
      "   total_litres_of_pure_alcohol continent  \n",
      "0                           0.0        AS  \n",
      "1                           4.9        EU  \n",
      "2                           0.7        AF  \n",
      "3                          12.4        EU  \n",
      "4                           5.9        AF  \n",
      "       country  beer_servings  spirit_servings  wine_servings  \\\n",
      "188  Venezuela            333              100              3   \n",
      "189    Vietnam            111                2              1   \n",
      "190      Yemen              6                0              0   \n",
      "191     Zambia             32               19              4   \n",
      "192   Zimbabwe             64               18              4   \n",
      "\n",
      "     total_litres_of_pure_alcohol continent  \n",
      "188                           7.7        SA  \n",
      "189                           2.0        AS  \n",
      "190                           0.1        AS  \n",
      "191                           2.5        AF  \n",
      "192                           4.7        AF  \n"
     ]
    }
   ],
   "source": [
    "print(drink.head())\n",
    "print(drink.tail())"
   ]
  },
  {
   "cell_type": "code",
   "execution_count": 5,
   "metadata": {},
   "outputs": [
    {
     "name": "stdout",
     "output_type": "stream",
     "text": [
      "Số lượng bia tiêu thụ trung bình ở mỗi châu lục:\n",
      "continent\n",
      "AF     61.471698\n",
      "AS     37.045455\n",
      "EU    193.777778\n",
      "OC     89.687500\n",
      "SA    175.083333\n",
      "Name: beer_servings, dtype: float64\n"
     ]
    }
   ],
   "source": [
    "#2\n",
    "so_luong_tieu_thu_bia_trung_binh_moi_chau_luc = drink.groupby('continent')['beer_servings'].mean()\n",
    "print(\"Số lượng bia tiêu thụ trung bình ở mỗi châu lục:\")\n",
    "print(so_luong_tieu_thu_bia_trung_binh_moi_chau_luc )"
   ]
  },
  {
   "cell_type": "code",
   "execution_count": 10,
   "metadata": {},
   "outputs": [
    {
     "name": "stdout",
     "output_type": "stream",
     "text": [
      "Thong ke tong quat ve so luong tieu thu ruou vang o moi chau luc:\n",
      "           count        mean        std  min   25%    50%     75%    max\n",
      "continent                                                               \n",
      "AF          53.0   16.264151  38.846419  0.0   1.0    2.0   13.00  233.0\n",
      "AS          44.0    9.068182  21.667034  0.0   0.0    1.0    8.00  123.0\n",
      "EU          45.0  142.222222  97.421738  0.0  59.0  128.0  195.00  370.0\n",
      "OC          16.0   35.625000  64.555790  0.0   1.0    8.5   23.25  212.0\n",
      "SA          12.0   62.416667  88.620189  1.0   3.0   12.0   98.50  221.0\n"
     ]
    }
   ],
   "source": [
    "#3\n",
    "thong_ke_so_luong_ruou_vang_tieu_thu_o_moi_chau_luc=drink.groupby('continent')['wine_servings'].describe()\n",
    "print(\"Thong ke tong quat ve so luong tieu thu ruou vang o moi chau luc:\")\n",
    "print(thong_ke_so_luong_ruou_vang_tieu_thu_o_moi_chau_luc)\n",
    "\n"
   ]
  },
  {
   "cell_type": "code",
   "execution_count": 11,
   "metadata": {},
   "outputs": [
    {
     "name": "stdout",
     "output_type": "stream",
     "text": [
      "Giá trị trung vị cho bia và rượu tiêu thụ ở mỗi châu lục:\n",
      "           beer_servings  wine_servings\n",
      "continent                              \n",
      "AF                  32.0            2.0\n",
      "AS                  17.5            1.0\n",
      "EU                 219.0          128.0\n",
      "OC                  52.5            8.5\n",
      "SA                 162.5           12.0\n"
     ]
    }
   ],
   "source": [
    "#5\n",
    "median_beer_wine = drink.groupby('continent')[['beer_servings', 'wine_servings']].median()\n",
    "print(\"Giá trị trung vị cho bia và rượu tiêu thụ ở mỗi châu lục:\")\n",
    "print(median_beer_wine)"
   ]
  },
  {
   "cell_type": "code",
   "execution_count": 12,
   "metadata": {},
   "outputs": [
    {
     "name": "stdout",
     "output_type": "stream",
     "text": [
      "Số lượng rượu mạnh tiêu thụ trung bình, lớn nhất và nhỏ nhất ở mỗi châu lục:\n",
      "                 mean  max  min\n",
      "continent                      \n",
      "AF          16.339623  152    0\n",
      "AS          60.840909  326    0\n",
      "EU         132.555556  373    0\n",
      "OC          58.437500  254    0\n",
      "SA         114.750000  302   25\n"
     ]
    }
   ],
   "source": [
    "#6\n",
    "spirit_stats_by_continent = drink.groupby('continent')['spirit_servings'].agg(['mean', 'max', 'min'])\n",
    "print(\"Số lượng rượu mạnh tiêu thụ trung bình, lớn nhất và nhỏ nhất ở mỗi châu lục:\")\n",
    "print(spirit_stats_by_continent)\n"
   ]
  },
  {
   "cell_type": "code",
   "execution_count": null,
   "metadata": {},
   "outputs": [
    {
     "name": "stdout",
     "output_type": "stream",
     "text": [
      "5 quốc gia có lượng tiêu thụ bia nhiều nhất:\n",
      "     beer_servings\n",
      "117            376\n",
      "45             361\n",
      "62             347\n",
      "65             346\n",
      "98             343\n",
      "5 quốc gia có lượng tiêu thụ bia ít nhất:\n",
      "     beer_servings\n",
      "107              0\n",
      "158              0\n",
      "111              0\n",
      "128              0\n",
      "0                0\n"
     ]
    }
   ],
   "source": [
    "#7\n",
    "drsorted_by_beer = drink.sort_values(by='beer_servings', ascending=False)\n",
    "top_5_beer = sorted_by_beer.head(5)\n",
    "print(\"5 quốc gia có lượng tiêu thụ bia nhiều nhất:\")\n",
    "print(top_5_beer[['beer_servings']])\n",
    "bottom_5_beer = sorted_by_beer.tail(5)\n",
    "print(\"5 quốc gia có lượng tiêu thụ bia ít nhất:\")\n",
    "print(bottom_5_beer[['beer_servings']])"
   ]
  }
 ],
 "metadata": {
  "kernelspec": {
   "display_name": "Python 3",
   "language": "python",
   "name": "python3"
  },
  "language_info": {
   "codemirror_mode": {
    "name": "ipython",
    "version": 3
   },
   "file_extension": ".py",
   "mimetype": "text/x-python",
   "name": "python",
   "nbconvert_exporter": "python",
   "pygments_lexer": "ipython3",
   "version": "3.6.8"
  }
 },
 "nbformat": 4,
 "nbformat_minor": 2
}
