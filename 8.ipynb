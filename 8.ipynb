{
 "cells": [
  {
   "cell_type": "code",
   "execution_count": 17,
   "metadata": {},
   "outputs": [
    {
     "name": "stdout",
     "output_type": "stream",
     "text": [
      "Kiểu dữ liệu của np_positions: <U2\n",
      "Kiểu dữ liệu của np_heights: float64\n",
      "188.23333333333332\n",
      "180.98888467853985\n",
      "[('GK', 191.) ('M', 184.) ('A', 185.) ... ('D', 183.) ('D', 179.)\n",
      " ('M', 179.)]\n",
      "[('M', 158.) ('A', 160.) ('M', 160.) ... ('A', 203.) ('GK', 203.)\n",
      " ('GK', 208.)]\n",
      "\n",
      "Vị trí có chiều cao cao nhất: GK với chiều cao: 208.0 inch\n",
      "Vị trí có chiều cao thấp nhất: M với chiều cao: 158.0 inch\n"
     ]
    }
   ],
   "source": [
    "import numpy as np\n",
    "heights=[]\n",
    "position=[]\n",
    "\n",
    "with open ('D:\\\\BAI TAP\\\\CHUONG3\\\\heights.txt', 'r',encoding='utf-8-sig') as f:  \n",
    "    read = f.readlines()\n",
    "    heights = list(map(lambda x: float(x), read[0].split(',')))\n",
    "with open ('D:\\\\BAI TAP\\\\CHUONG3\\\\positions.txt', 'r',encoding='utf-8-sig') as f:  \n",
    "    read = f.readlines()\n",
    "    positions = read[0].split(',')\n",
    "#1\n",
    "np_positions =np.array(positions)\n",
    "np_heights=np.array(heights)\n",
    "print(f\"Kiểu dữ liệu của np_positions: {np_positions.dtype}\")\n",
    "print(f\"Kiểu dữ liệu của np_heights: {np_heights.dtype}\")\n",
    "#2\n",
    "gk_heights=np_heights[np_positions=='GK']\n",
    "chieu_cao_trung_binh_cac_GK=gk_heights.mean()\n",
    "print(chieu_cao_trung_binh_cac_GK)\n",
    "#4\n",
    "non_gk_heights=np_heights[np_positions != 'GK']\n",
    "chieu_cao_trung_binh_cua_nhung_vi_tri_khac=non_gk_heights.mean()\n",
    "print(chieu_cao_trung_binh_cua_nhung_vi_tri_khac)\n",
    "#5\n",
    "players = np.zeros(len(np_positions), dtype={'names': ('position', 'height'), 'formats': ('U5', 'f8')})\n",
    "players['position'] = np_positions\n",
    "players['height'] = np_heights\n",
    "print(players)\n",
    "#6\n",
    "sorted_players=np.sort(players, order='height')\n",
    "print(sorted_players)\n",
    "highest_player=sorted_players[-1]\n",
    "lowest_player=sorted_players[0]\n",
    "print(f\"\\nVị trí có chiều cao cao nhất: {highest_player['position']} với chiều cao: {highest_player['height']} inch\")\n",
    "print(f\"Vị trí có chiều cao thấp nhất: {lowest_player['position']} với chiều cao: {lowest_player['height']} inch\")\n",
    "\n"
   ]
  }
 ],
 "metadata": {
  "kernelspec": {
   "display_name": "Python 3",
   "language": "python",
   "name": "python3"
  },
  "language_info": {
   "codemirror_mode": {
    "name": "ipython",
    "version": 3
   },
   "file_extension": ".py",
   "mimetype": "text/x-python",
   "name": "python",
   "nbconvert_exporter": "python",
   "pygments_lexer": "ipython3",
   "version": "3.6.8"
  }
 },
 "nbformat": 4,
 "nbformat_minor": 2
}
