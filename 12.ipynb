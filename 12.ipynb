{
 "cells": [
  {
   "cell_type": "code",
   "execution_count": null,
   "metadata": {},
   "outputs": [
    {
     "name": "stdout",
     "output_type": "stream",
     "text": [
      "  movieId                               title  \\\n",
      "0       1                    Toy Story (1995)   \n",
      "1       2                      Jumanji (1995)   \n",
      "2       3             Grumpier Old Men (1995)   \n",
      "3       4            Waiting to Exhale (1995)   \n",
      "4       5  Father of the Bride Part II (1995)   \n",
      "\n",
      "                                        genres;  \n",
      "0  Adventure|Animation|Children|Comedy|Fantasy;  \n",
      "1                   Adventure|Children|Fantasy;  \n",
      "2                               Comedy|Romance;  \n",
      "3                         Comedy|Drama|Romance;  \n",
      "4                                       Comedy;  \n",
      "   userId  movieId  rating  timestamp\n",
      "0       1        1     4.0  964982703\n",
      "1       1        3     4.0  964981247\n",
      "2       1        6     4.0  964982224\n",
      "3       1       47     5.0  964983815\n",
      "4       1       50     5.0  964982931\n",
      "  userId  movieId              tag     timestamp\n",
      "0      2  60756.0            funny  1.445715e+09\n",
      "1      2  60756.0  Highly quotable  1.445715e+09\n",
      "2      2  60756.0     will ferrell  1.445715e+09\n",
      "3      2  89774.0     Boxing story  1.445715e+09\n",
      "4      2  89774.0              MMA  1.445715e+09\n",
      "   movieId  imdbId   tmdbId\n",
      "0        1  114709    862.0\n",
      "1        2  113497   8844.0\n",
      "2        3  113228  15602.0\n",
      "3        4  114885  31357.0\n",
      "4        5  113041  11862.0\n"
     ]
    }
   ],
   "source": [
    "import pandas as pd\n",
    "movies = pd.read_csv('movies.csv')\n",
    "ratings = pd.read_csv('ratings.csv')\n",
    "tags = pd.read_csv('tags.csv')\n",
    "links = pd.read_csv('links.csv')\n",
    "print(movies.head())\n",
    "print(ratings.head())\n",
    "print(tags.head())\n",
    "print(links.head())"
   ]
  },
  {
   "cell_type": "code",
   "execution_count": 5,
   "metadata": {},
   "outputs": [
    {
     "name": "stdout",
     "output_type": "stream",
     "text": [
      "movieId       0\n",
      "title      2080\n",
      "genres;    2080\n",
      "dtype: int64\n",
      "userId       0\n",
      "movieId      0\n",
      "rating       0\n",
      "timestamp    0\n",
      "dtype: int64\n",
      "userId       0\n",
      "movieId      1\n",
      "tag          1\n",
      "timestamp    1\n",
      "dtype: int64\n",
      "movieId    0\n",
      "imdbId     0\n",
      "tmdbId     8\n",
      "dtype: int64\n"
     ]
    }
   ],
   "source": [
    "print(movies.isnull().sum())\n",
    "print(ratings.isnull().sum())\n",
    "print(tags.isnull().sum())\n",
    "print(links.isnull().sum())\n",
    "ratings = ratings.dropna()\n",
    "ratings = ratings[(ratings['rating'] >= 1) & (ratings['rating'] <= 5)]\n"
   ]
  }
 ],
 "metadata": {
  "kernelspec": {
   "display_name": "Python 3",
   "language": "python",
   "name": "python3"
  },
  "language_info": {
   "codemirror_mode": {
    "name": "ipython",
    "version": 3
   },
   "file_extension": ".py",
   "mimetype": "text/x-python",
   "name": "python",
   "nbconvert_exporter": "python",
   "pygments_lexer": "ipython3",
   "version": "3.6.8rc1"
  }
 },
 "nbformat": 4,
 "nbformat_minor": 2
}
